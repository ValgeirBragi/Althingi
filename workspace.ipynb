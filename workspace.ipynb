{
 "cells": [
  {
   "cell_type": "markdown",
   "metadata": {},
   "source": [
    "## Workspace\n",
    "This notebook serves as a hub for the project."
   ]
  },
  {
   "cell_type": "code",
   "execution_count": 1,
   "metadata": {},
   "outputs": [],
   "source": [
    "import pandas as pd\n",
    "import AlthingiScraper as AS # Custom functions"
   ]
  },
  {
   "cell_type": "code",
   "execution_count": 2,
   "metadata": {},
   "outputs": [],
   "source": [
    "# Testing the session_scraper on session 151\n",
    "session_151 = pd.DataFrame()\n",
    "session_151 = AS.session_scrape(151, session_151)"
   ]
  },
  {
   "cell_type": "code",
   "execution_count": 3,
   "metadata": {},
   "outputs": [
    {
     "data": {
      "text/html": [
       "<div>\n",
       "<style scoped>\n",
       "    .dataframe tbody tr th:only-of-type {\n",
       "        vertical-align: middle;\n",
       "    }\n",
       "\n",
       "    .dataframe tbody tr th {\n",
       "        vertical-align: top;\n",
       "    }\n",
       "\n",
       "    .dataframe thead th {\n",
       "        text-align: right;\n",
       "    }\n",
       "</style>\n",
       "<table border=\"1\" class=\"dataframe\">\n",
       "  <thead>\n",
       "    <tr style=\"text-align: right;\">\n",
       "      <th></th>\n",
       "      <th>bill_num</th>\n",
       "      <th>bill_date</th>\n",
       "      <th>bill_title</th>\n",
       "      <th>bill_link</th>\n",
       "      <th>bill_reader</th>\n",
       "      <th>reader_minister</th>\n",
       "      <th>reader_link</th>\n",
       "      <th>bill_id</th>\n",
       "    </tr>\n",
       "  </thead>\n",
       "  <tbody>\n",
       "    <tr>\n",
       "      <th>0</th>\n",
       "      <td>133</td>\n",
       "      <td>08.10.2020</td>\n",
       "      <td>40 stunda vinnuvika (lögbundnir frídagar) (end...</td>\n",
       "      <td>https://www.althingi.is/thingstorf/thingmalali...</td>\n",
       "      <td>Þorsteinn Sæmunds­son</td>\n",
       "      <td>0</td>\n",
       "      <td>/thingstorf/thingmalin/flutningsmenn/?lthing=1...</td>\n",
       "      <td>1332020</td>\n",
       "    </tr>\n",
       "    <tr>\n",
       "      <th>0</th>\n",
       "      <td>456</td>\n",
       "      <td>20.01.2021</td>\n",
       "      <td>Aðbúnaður, hollustuhættir og öryggi á vinnustö...</td>\n",
       "      <td>https://www.althingi.is/thingstorf/thingmalali...</td>\n",
       "      <td>Ásmundur Einar Daðason</td>\n",
       "      <td>Félags- og barnamála­ráð­herra</td>\n",
       "      <td>/thingstorf/thingmalin/flutningsmenn/?lthing=1...</td>\n",
       "      <td>4562021</td>\n",
       "    </tr>\n",
       "    <tr>\n",
       "      <th>0</th>\n",
       "      <td>584</td>\n",
       "      <td>09.03.2021</td>\n",
       "      <td>Aðgerðir gegn markaðssvikum</td>\n",
       "      <td>https://www.althingi.is/thingstorf/thingmalali...</td>\n",
       "      <td>Bjarni Benediktsson</td>\n",
       "      <td>Fjármála- og efnahags­ráð­herra</td>\n",
       "      <td>/thingstorf/thingmalin/flutningsmenn/?lthing=1...</td>\n",
       "      <td>5842021</td>\n",
       "    </tr>\n",
       "    <tr>\n",
       "      <th>0</th>\n",
       "      <td>364</td>\n",
       "      <td>01.12.2020</td>\n",
       "      <td>Aðgerðir gegn peningaþvætti og fjármögnun hryð...</td>\n",
       "      <td>https://www.althingi.is/thingstorf/thingmalali...</td>\n",
       "      <td>Áslaug Arna Sigurbjörnsdóttir</td>\n",
       "      <td>Dómsmála­ráð­herra</td>\n",
       "      <td>/thingstorf/thingmalin/flutningsmenn/?lthing=1...</td>\n",
       "      <td>3642020</td>\n",
       "    </tr>\n",
       "    <tr>\n",
       "      <th>0</th>\n",
       "      <td>643</td>\n",
       "      <td>24.03.2021</td>\n",
       "      <td>Afleiðuviðskipti, miðlægir mótaðilar og afleið...</td>\n",
       "      <td>https://www.althingi.is/thingstorf/thingmalali...</td>\n",
       "      <td>Bjarni Benediktsson</td>\n",
       "      <td>Fjármála- og efnahags­ráð­herra</td>\n",
       "      <td>/thingstorf/thingmalin/flutningsmenn/?lthing=1...</td>\n",
       "      <td>6432021</td>\n",
       "    </tr>\n",
       "    <tr>\n",
       "      <th>...</th>\n",
       "      <td>...</td>\n",
       "      <td>...</td>\n",
       "      <td>...</td>\n",
       "      <td>...</td>\n",
       "      <td>...</td>\n",
       "      <td>...</td>\n",
       "      <td>...</td>\n",
       "      <td>...</td>\n",
       "    </tr>\n",
       "    <tr>\n",
       "      <th>0</th>\n",
       "      <td>130</td>\n",
       "      <td>08.10.2020</td>\n",
       "      <td>Þjóðhagsstofnun (endurflutt)</td>\n",
       "      <td>https://www.althingi.is/thingstorf/thingmalali...</td>\n",
       "      <td>Oddný G. Harðar­dóttir</td>\n",
       "      <td>0</td>\n",
       "      <td>/thingstorf/thingmalin/flutningsmenn/?lthing=1...</td>\n",
       "      <td>1302020</td>\n",
       "    </tr>\n",
       "    <tr>\n",
       "      <th>0</th>\n",
       "      <td>587</td>\n",
       "      <td>09.03.2021</td>\n",
       "      <td>Þjóðkirkjan (heildarlög)</td>\n",
       "      <td>https://www.althingi.is/thingstorf/thingmalali...</td>\n",
       "      <td>Áslaug Arna Sigurbjörnsdóttir</td>\n",
       "      <td>Dómsmála­ráð­herra</td>\n",
       "      <td>/thingstorf/thingmalin/flutningsmenn/?lthing=1...</td>\n",
       "      <td>5872021</td>\n",
       "    </tr>\n",
       "    <tr>\n",
       "      <th>0</th>\n",
       "      <td>501</td>\n",
       "      <td>02.02.2021</td>\n",
       "      <td>Þjóðsöngur Íslendinga (afnám takmarkana) (endu...</td>\n",
       "      <td>https://www.althingi.is/thingstorf/thingmalali...</td>\n",
       "      <td>Helgi Hrafn Gunnars­son</td>\n",
       "      <td>0</td>\n",
       "      <td>/thingstorf/thingmalin/flutningsmenn/?lthing=1...</td>\n",
       "      <td>5012021</td>\n",
       "    </tr>\n",
       "    <tr>\n",
       "      <th>0</th>\n",
       "      <td>588</td>\n",
       "      <td>09.03.2021</td>\n",
       "      <td>Þjónustu- og þekkingarmiðstöð fyrir blinda, sj...</td>\n",
       "      <td>https://www.althingi.is/thingstorf/thingmalali...</td>\n",
       "      <td>Inga Sæland</td>\n",
       "      <td>0</td>\n",
       "      <td>/thingstorf/thingmalin/flutningsmenn/?lthing=1...</td>\n",
       "      <td>5882021</td>\n",
       "    </tr>\n",
       "    <tr>\n",
       "      <th>0</th>\n",
       "      <td>692</td>\n",
       "      <td>31.03.2021</td>\n",
       "      <td>Ættleiðingar (ættleiðendur)</td>\n",
       "      <td>https://www.althingi.is/thingstorf/thingmalali...</td>\n",
       "      <td>Silja Dögg Gunnars­dóttir</td>\n",
       "      <td>0</td>\n",
       "      <td>/thingstorf/thingmalin/flutningsmenn/?lthing=1...</td>\n",
       "      <td>6922021</td>\n",
       "    </tr>\n",
       "  </tbody>\n",
       "</table>\n",
       "<p>304 rows × 8 columns</p>\n",
       "</div>"
      ],
      "text/plain": [
       "   bill_num   bill_date                                         bill_title  \\\n",
       "0       133  08.10.2020  40 stunda vinnuvika (lögbundnir frídagar) (end...   \n",
       "0       456  20.01.2021  Aðbúnaður, hollustuhættir og öryggi á vinnustö...   \n",
       "0       584  09.03.2021                       Aðgerðir gegn markaðssvikum    \n",
       "0       364  01.12.2020  Aðgerðir gegn peningaþvætti og fjármögnun hryð...   \n",
       "0       643  24.03.2021  Afleiðuviðskipti, miðlægir mótaðilar og afleið...   \n",
       "..      ...         ...                                                ...   \n",
       "0       130  08.10.2020                       Þjóðhagsstofnun (endurflutt)   \n",
       "0       587  09.03.2021                          Þjóðkirkjan (heildarlög)    \n",
       "0       501  02.02.2021  Þjóðsöngur Íslendinga (afnám takmarkana) (endu...   \n",
       "0       588  09.03.2021  Þjónustu- og þekkingarmiðstöð fyrir blinda, sj...   \n",
       "0       692  31.03.2021                       Ættleiðingar (ættleiðendur)    \n",
       "\n",
       "                                            bill_link  \\\n",
       "0   https://www.althingi.is/thingstorf/thingmalali...   \n",
       "0   https://www.althingi.is/thingstorf/thingmalali...   \n",
       "0   https://www.althingi.is/thingstorf/thingmalali...   \n",
       "0   https://www.althingi.is/thingstorf/thingmalali...   \n",
       "0   https://www.althingi.is/thingstorf/thingmalali...   \n",
       "..                                                ...   \n",
       "0   https://www.althingi.is/thingstorf/thingmalali...   \n",
       "0   https://www.althingi.is/thingstorf/thingmalali...   \n",
       "0   https://www.althingi.is/thingstorf/thingmalali...   \n",
       "0   https://www.althingi.is/thingstorf/thingmalali...   \n",
       "0   https://www.althingi.is/thingstorf/thingmalali...   \n",
       "\n",
       "                      bill_reader                  reader_minister  \\\n",
       "0           Þorsteinn Sæmunds­son                                0   \n",
       "0          Ásmundur Einar Daðason   Félags- og barnamála­ráð­herra   \n",
       "0             Bjarni Benediktsson  Fjármála- og efnahags­ráð­herra   \n",
       "0   Áslaug Arna Sigurbjörnsdóttir               Dómsmála­ráð­herra   \n",
       "0             Bjarni Benediktsson  Fjármála- og efnahags­ráð­herra   \n",
       "..                            ...                              ...   \n",
       "0          Oddný G. Harðar­dóttir                                0   \n",
       "0   Áslaug Arna Sigurbjörnsdóttir               Dómsmála­ráð­herra   \n",
       "0         Helgi Hrafn Gunnars­son                                0   \n",
       "0                     Inga Sæland                                0   \n",
       "0       Silja Dögg Gunnars­dóttir                                0   \n",
       "\n",
       "                                          reader_link  bill_id  \n",
       "0   /thingstorf/thingmalin/flutningsmenn/?lthing=1...  1332020  \n",
       "0   /thingstorf/thingmalin/flutningsmenn/?lthing=1...  4562021  \n",
       "0   /thingstorf/thingmalin/flutningsmenn/?lthing=1...  5842021  \n",
       "0   /thingstorf/thingmalin/flutningsmenn/?lthing=1...  3642020  \n",
       "0   /thingstorf/thingmalin/flutningsmenn/?lthing=1...  6432021  \n",
       "..                                                ...      ...  \n",
       "0   /thingstorf/thingmalin/flutningsmenn/?lthing=1...  1302020  \n",
       "0   /thingstorf/thingmalin/flutningsmenn/?lthing=1...  5872021  \n",
       "0   /thingstorf/thingmalin/flutningsmenn/?lthing=1...  5012021  \n",
       "0   /thingstorf/thingmalin/flutningsmenn/?lthing=1...  5882021  \n",
       "0   /thingstorf/thingmalin/flutningsmenn/?lthing=1...  6922021  \n",
       "\n",
       "[304 rows x 8 columns]"
      ]
     },
     "execution_count": 3,
     "metadata": {},
     "output_type": "execute_result"
    }
   ],
   "source": [
    "# Results from session_scraper test\n",
    "session_151"
   ]
  },
  {
   "cell_type": "code",
   "execution_count": 4,
   "metadata": {},
   "outputs": [],
   "source": [
    "# Testing bill\n",
    "bill_test_dict = AS.bill_scrape('https://www.althingi.is/thingstorf/thingmalalistar-eftir-thingum/ferill/151/133/?ltg=151&mnr=133', \n",
    "            three_debates_only = True)"
   ]
  },
  {
   "cell_type": "code",
   "execution_count": 5,
   "metadata": {},
   "outputs": [
    {
     "data": {
      "text/plain": [
       "False"
      ]
     },
     "execution_count": 5,
     "metadata": {},
     "output_type": "execute_result"
    }
   ],
   "source": [
    "bill_test_dict # Should return False if it has less than three debates"
   ]
  },
  {
   "cell_type": "code",
   "execution_count": 2,
   "metadata": {},
   "outputs": [],
   "source": [
    "# Testing bill with 3 debates\n",
    "bill_test_dict = AS.bill_scrape('https://www.althingi.is/thingstorf/thingmalalistar-eftir-thingum/ferill/151/443/?ltg=151&mnr=443', \n",
    "            three_debates_only = True)"
   ]
  },
  {
   "cell_type": "code",
   "execution_count": 3,
   "metadata": {},
   "outputs": [
    {
     "data": {
      "text/plain": [
       "{'debate_count': 3,\n",
       " 'bill_proposal_link': '/altext/151/s/0756.html',\n",
       " 'first_debate_date': '21.01.2021',\n",
       " 'first_debate_timestamp': '16:47-16:58',\n",
       " 'first_debate_link': '/altext/151/01/l21164717.sgml',\n",
       " 'first_debate_vote_link': '/thingstorf/thingmalin/atkvaedagreidslur/?btim=2021-01-21+16:47:17&etim=2021-01-21+16:58:40',\n",
       " 'second_debate_date': '03.03.2021',\n",
       " 'second_debate_timestamp': '15:38-15:42',\n",
       " 'second_debate_link': '/altext/151/03/l03153850.sgml',\n",
       " 'second_debate_date_2': '04.03.2021',\n",
       " 'second_debate_timestamp_2': '14:36-14:38',\n",
       " 'second_debate_link_2': '/altext/151/03/l04143647.sgml',\n",
       " 'second_debate_vote_link': '/thingstorf/thingmalin/atkvaedagreidslur/?btim=2021-03-04+14:36:47&etim=2021-03-04+14:38:56',\n",
       " 'third_debate_date': '11.03.2021',\n",
       " 'third_debate_timestamp': '15:47-15:47',\n",
       " 'third_debate_link': '/altext/151/03/l11154713.sgml',\n",
       " 'third_debate_date_2': '11.03.2021',\n",
       " 'third_debate_timestamp_2': '15:47-15:47',\n",
       " 'third_debate_link_2': '/altext/151/03/l11154727.sgml',\n",
       " 'third_debate_vote_link': '/thingstorf/thingmalin/atkvaedagreidslur/?btim=2021-03-11+15:47:27&etim=2021-03-11+15:47:53'}"
      ]
     },
     "execution_count": 3,
     "metadata": {},
     "output_type": "execute_result"
    }
   ],
   "source": [
    "bill_test_dict"
   ]
  },
  {
   "cell_type": "code",
   "execution_count": 2,
   "metadata": {},
   "outputs": [],
   "source": [
    "test_debate = AS.debate_scrape('https://www.althingi.is/altext/151/01/l21164717.sgml')"
   ]
  },
  {
   "cell_type": "code",
   "execution_count": 3,
   "metadata": {},
   "outputs": [
    {
     "data": {
      "text/plain": [
       "{'rad20210121T164730': {'link': 'https://www.althingi.is/altext/raeda/151/rad20210121T164730.html',\n",
       "  'speaker': 'Dómsmálaráðherra (Áslaug Arna Sigurbjörnsdóttir)',\n",
       "  'text': 'Hæstv. forseti. Ég mæli hér fyrir frumvarpi til laga um breytingu á lögum um almannavarnir, sem felur í sér borgaralega skyldu opinberra starfsmanna, bæði ríkis og sveitarfélaga, til að gegna störfum í þágu almannavarna á hættustundu. Þetta er sams konar frumvarp og ég flutti í mars 2020 vegna Covid-19 faraldursins og var samþykkt til bráðabirgða með gildistíma til ársloka 2020. Bráðabirgðaákvæðið er því fallið úr gildi en nauðsynlegt er að setja það að nýju til bráðabirgða, a.m.k. til ársloka 2021, með vísan til þeirrar óvissu sem enn er uppi vegna Covid-19 faraldursins. Ákvæðið hefur reynst opinberum aðilum einstaklega vel. Það felur í sér að heimilt er að breyta starfsskyldum tímabundið og flytja starfsmenn tímabundið á milli starfsstöðva og stofnana til að sinna verkefnum sem hafa forgang á hættustundu. Starfsmenn halda óbreyttum launakjörum við slíkar aðstæður. Þó er starfsmaður undanþeginn framangreindum skyldum sé heilsufari hans eða annarra sem hann ber ábyrgð á svo háttað að öryggi og heilsu hans eða þeirra sé stefnt í sérstaka hættu. Frumvarpinu er ætlað að tryggja nægilegt svigrúm opinberra aðila svo að þeir geti veitt þjónustu í almannaþágu á hættustundu. Þannig verður hægt að fara fram á breytingu á starfsskyldum og jafnvel vinnustöðum viðkomandi starfsmanna eftir þörfum. Með opinberum aðilum samkvæmt frumvarpinu er átt við ríki, sveitarfélög og fyrirtæki í þeirra eigu. Hættustund í skilningi þessa ákvæðis er sú stund þegar hættustigi eða neyðarstigi almannavarna hefur verið lýst yfir. Ríkislögreglustjóri hefur þá lýst yfir neyðarstigi sem er hæsta almannavarnastig samkvæmt reglugerð um flokkun almannavarnastiga eða hefur lýst yfir að neyðarstig sé yfirvofandi. Þess má geta að aldrei áður hefur neyðarstigi almannavarna verið lýst yfir fyrr en nú í baráttunni við farsóttina Covid-19. Ýmsir opinberir aðilar hafa markvisst unnið að uppfærslu undanfarið á viðbragðsáætlunum, m.a. vegna snjóflóða og skriðufalla, eldgosahættu og farsóttarinnar, en í mörgum viðbragðsáætlunum er tekið fram að heimilt sé að færa fólk á milli starfa til að sinna verkefnum sem hafa forgang. Við þá vinnu hefur komið í ljós að nauðsynlegt er að tryggja lagagrundvöll fyrir heimild opinberra aðila til að færa starfsmenn til í starfi eftir þörfum við slíkar aðstæður. Slík heimild þarf að vera til staðar óháð efni viðbragðsáætlana þar sem oft getur þurft að taka ákvarðanir hratt og örugglega á þessu stigi almannavarna. Þess ber að geta að samkvæmt 19. gr. laga um almannavarnir í dag er borgaraleg skylda allra á aldrinum 18–65 ára á hættustundu að gegna, án endurgjalds, starfi í þágu almannavarna. Eðlilegt er að einnig sé fyrir hendi vægara úrræði eða heimild til að mannauður opinberra aðila sé virkjaður og komi laun fyrir. Opinberir aðilar geti þannig nýtt mannauð sinn á óvenjulegum tímum sem þessum í þau verkefni sem eru mikilvægust hverju sinni. Með samþykkt frumvarpsins munu starfsskyldur starfsmanna ná til þess að sinna þeim borgaralegu skyldum á hættustundu sem þeim er falið á grundvelli þessarar heimildar. Markmiðið er fyrst og fremst að tryggja öryggi almennings og geta veitt nauðsynlega þjónustu við slíkar aðstæður. Úrræðið hefur reynst vel og hefur þetta verið eitt af atriðunum sem hafa skipt máli fyrir góðan árangur Íslands í að bregðast við þessum vágesti. Dómsmálaráðuneytinu barst erindi, bæði frá Sambandi íslenskra sveitarfélaga og ríkislögreglustjóra, þar sem eindregið var óskað eftir því að þetta bráðabirgðaákvæði fengi gildi að nýju. Dæmi um tímabundin úrræði sem krefjast sveigjanleika eru m.a. samhæfingarstöð almannavarna vegna Covid og rakningateymi almannavarna og sóttvarnalæknis. Í raun má segja að sveigjanleiki almannakerfisins byggist upp að hluta á bráðabirgðaákvæði II í almannavarnalögum. Í því getur t.d. falist að gera fyrirvaralaust breytingar á vaktaskipulagi til að tryggja nauðsynlega hólfun, til að tryggja að nauðsynleg viðbragðsþjónusta, löggæsla og almannavarnaviðbúnaður leggist ekki niður vegna smita í ákveðnum starfseiningum eða þegar taka þarf ákvarðanir sem ekki eru í samræmi við kjarasamningsbundin réttindi eins og kosningar og vaktaskipulag meðal starfsmanna samkvæmt því ferli sem þar er kveðið á um. Í þannig stöðu leikur umrætt bráðabirgðaákvæði lykilhlutverk. Án þess eru ekki til staðar lagaheimildir til að bregðast hratt við aðstæðum, tryggja nauðsynlegt öryggi og tryggja órofinn rekstur mikilvægra innviða í samræmi við ákvæði almannavarna. Sveitarfélögin telja mjög mikilvægt að ákvæðið sé framlengt þar sem það hefur reynst mikilvægt í að halda úti nauðsynlegri starfsemi hjá sveitarfélögum, þar á meðal á vettvangi, í velferðarþjónustu og í skólum. Starfsfólk er þannig fært á milli starfsstöðva, fær önnur verkefni en það var ráðið til og breytingar verða á skipulagi, en aðeins á hættustundu samkvæmt skilgreiningu almannavarnalaga. Ítrekað er að starfsfólk fær í öllum tilfellum fullgreidd laun í samræmi við sína kjarasamninga og launin eru hækkuð ef starfsfólk er fært í starf í hærri launaflokki. Í sumum tilfellum eru starfsmenn að fá full laun jafnvel þótt vinnuframlag sé minna en ráðningarsamningur gerir ráð fyrir, en úrræðið er því aðeins notað ef tilefni er til í þau störf er njóta forgangs á þessum tímum. Með samþykkt frumvarpsins verður opinberum aðilum tryggð heimildin aftur til að bregðast við hratt og örugglega á neyðarstigi almannavarna og geta ráðstafað starfsmönnum sínum í verkefni er njóta forgangs. Mun það hafa mikilvæg og jákvæð áhrif til að sporna við hættu og veita þá nauðsynlegu þjónustu sem samfélagið þarfnast hverju sinni. Við undirbúning frumvarpsins í mars 2020 var unnið með Sambandi íslenskra sveitarfélaga og haft samráð við fjármála- og efnahagsráðuneytið og einnig haft samband við helstu forsvarsmenn samtaka starfsmanna opinberra aðila. Nú er áfram byggt á því samráði en frumvarpið er endurflutt að ósk opinberra aðila sem gegna mikilvægu hlutverki þegar almannavarnaástand ríkir á hættustigi eða neyðarstigi almannavarna. Virðulegi forseti. Ég hef nú gert grein fyrir efnisatriðum frumvarpsins og legg til að að lokinni þessari umræðu verði því vísað til hv. allsherjar- og menntamálanefndar og 2. umr. ',\n",
       "  'time_start': '16:47'},\n",
       " 'rad20210121T165342': {'link': 'https://www.althingi.is/altext/raeda/151/rad20210121T165342.html',\n",
       "  'speaker': 'Helgi Hrafn Gunnarsson',\n",
       "  'text': 'Virðulegi forseti. Það er almennt ekki öfundsverð staða fyrir ráðherra sem aðhyllist frelsið og talar oft um mikilvægi þess, eins og þessi ágæti ráðherra gerir, að flytja mál sem þetta, það felur auðvitað í sér að tímabundinni takmörkun á rétti fólks er viðhaldið um eitt ár í senn. Í greinargerð frumvarpsins kemur hins vegar fram að til standi að leggja fram frumvarp þar sem þetta verði gert varanlegt með einhverjum hætti. Þetta er auðvitað alltaf bara sama gamla spurningin um það hvenær almannahagsmunir komi framar frelsi einstaklingsins. Hér er auðvitað um afskaplega mikilvæg réttindi að ræða en við tökumst á um það þegar það frumvarp kemur, geri ég ráð fyrir. Ég ætla að spyrja hæstv. ráðherra út í annað ákvæði sem er í almannavarnalögum, nefnilega 19. gr., sem fjallar um almenna borgaralega skyldu. Þegar hún er lesin er hún ansi víð og hefur verið gagnrýnd í ljósi Covid-19 heimsfaraldursins. Ég velti fyrir mér hvort hæstv. ráðherra hafi í huga eða hafi jafnvel nú þegar skoðað möguleika á því að þrengja það ákvæði eða á einhvern hátt draga úr þeirri stórkostlegu frelsisskerðingu sem það boðar mögulega á hættustundu. Þá vil ég láta það fylgja að ég hef ekki sérstakar áhyggjur af því að það ákvæði verði misnotað af yfirvöldum í þessum heimsfaraldri, hef enga ástæðu til að ætla það. En eins og sagan kennir okkur, stundum mjög dónalega, komast stundum til valda einstaklingar sem eru reiðubúnir til að misnota ákvæði sem eru sett í lögmætum og jákvæðum tilgangi. Því spyr ég hæstv. ráðherra hvort hún hyggist endurskoða það ákvæði og leggja fram frumvarp til breytinga þar á. ',\n",
       "  'time_start': '16:53'},\n",
       " 'rad20210121T165549': {'link': 'https://www.althingi.is/altext/raeda/151/rad20210121T165549.html',\n",
       "  'speaker': 'Dómsmálaráðherra (Áslaug Arna Sigurbjörnsdóttir)',\n",
       "  'text': 'Virðulegur forseti. Ég þakka hv. þingmanni kærlega fyrir þessar vangaveltur og tek heils hugar undir þessi sjónarmið sem alltaf þarf að huga að. Og einmitt vegna þess sem hann nefnir í lokin, varðandi þá grein sem nú þegar er í lögunum, þá tel ég ákvæðið sem hér er lagt til vera minna íþyngjandi og þurfi því að skjóta undir það lagastoð. Hér erum við einfaldlega að tryggja ákveðinn sveigjanleika í störfum hins opinbera á neyðarstigi almannavarna. Það er margt sem þarf að meta og almannahagsmuni þarf alltaf að skoða og ákvæðið þarf að vera takmarkað við ákveðið stig almannavarnalaga. Raunar er margt í lögunum komið til ára sinna og ég er að ljúka við nýja almannavarnastefnu þar sem einmitt mun verða kveðið á um að skoða þurfi lögin enn frekar, ekki bara þær breytingar sem ég mun kannski leggjast í á þessu þingi. Þetta ákvæði í 19. gr. mun ég taka inn í þá skoðun af því að ég held að það sé komið til ára sinna, hvernig það er sett fram, vægast sagt. Notkunin á auðvitað alltaf að vera afar takmörkuð og ákvæðið er kannski fullvíðtækt í dag. Það ætti að finna leiðir sem ganga skemur, eins og þessi gerir. Við sjáum á þessari stundu að þetta ákvæði hefur nýst afar vel í almannavarnadeildinni sjálfri, í smitrakningarteyminu sem hefur unnið ótrúlega vinnu þar sem allir eru mjög viljugir til að færa sig um set þegar þörf er á í þá vinnu en líka hér í borginni þar sem starfsmenn íþróttamannvirkja, þar sem ekki hefur verið starfsemi, hafa verið að vinna annaðhvort við skóla eða í starfsemi fyrir heimilislausa. Þetta hefur gengið vel og viljinn hefur líka alltaf verið til staðar, sem er auðvitað afar mikilvægt og við viljum að það sé grundvöllur svona starfsemi á hættustundu almannavarna. Þannig að ég segi bara: Já, það stendur til að skoða það ákvæði sem hv. þingmaður nefnir og ég tel algjörlega þörf á því. En ég tel líka mikilvægt að koma með þetta ákvæði svo að ekki þurfi að grípa til 19. gr. ',\n",
       "  'time_start': '16:55'},\n",
       " 'rad20210121T165802': {'link': 'https://www.althingi.is/altext/raeda/151/rad20210121T165802.html',\n",
       "  'speaker': 'Helgi Hrafn Gunnarsson',\n",
       "  'text': 'Virðulegur forseti. Ég vildi bara koma upp til að þakka hæstv. ráðherra fyrir gott og málefnalegt og hughreystandi svar. Ég ætlast ekki til að hæstv. ráðherra nýti seinni svarrétt sinn en vildi koma hér upp og þakka fyrir og hvet hæstv. ráðherra til dáða í þessum efnum. ',\n",
       "  'time_start': '16:58'}}"
      ]
     },
     "execution_count": 3,
     "metadata": {},
     "output_type": "execute_result"
    }
   ],
   "source": [
    "test_debate"
   ]
  },
  {
   "cell_type": "code",
   "execution_count": null,
   "metadata": {},
   "outputs": [],
   "source": []
  }
 ],
 "metadata": {
  "kernelspec": {
   "display_name": "workenv",
   "language": "python",
   "name": "python3"
  },
  "language_info": {
   "codemirror_mode": {
    "name": "ipython",
    "version": 3
   },
   "file_extension": ".py",
   "mimetype": "text/x-python",
   "name": "python",
   "nbconvert_exporter": "python",
   "pygments_lexer": "ipython3",
   "version": "3.9.18"
  },
  "orig_nbformat": 4
 },
 "nbformat": 4,
 "nbformat_minor": 2
}
